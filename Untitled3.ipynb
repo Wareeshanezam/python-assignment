{
 "cells": [
  {
   "cell_type": "code",
   "execution_count": 1,
   "id": "aaf4b50f",
   "metadata": {},
   "outputs": [
    {
     "name": "stdout",
     "output_type": "stream",
     "text": [
      "Twinkle, Twinkle, little star,\n",
      "\tHow i wonder what you are!\n",
      "\t\tUp above the world so high,\n",
      "\t\tLike a diamond in the sky.\n",
      "Twinkle, Twinkle, little star,\n",
      "\tHow i wonder what you are\n"
     ]
    }
   ],
   "source": [
    "#Write a Python program to print the following string in a specific format (see the  output)\n",
    "print('Twinkle, Twinkle, little star,\\n\\tHow i wonder what you are!\\n\\t\\tUp above the world so high,\\n\\t\\tLike a diamond in the sky.\\nTwinkle, Twinkle, little star,\\n\\tHow i wonder what you are')"
   ]
  },
  {
   "cell_type": "code",
   "execution_count": 2,
   "id": "81a5abe6",
   "metadata": {},
   "outputs": [
    {
     "name": "stdout",
     "output_type": "stream",
     "text": [
      "Your python version is:\n",
      "3.8.8 (default, Apr 13 2021, 15:08:03) [MSC v.1916 64 bit (AMD64)]\n",
      "\n",
      "\n",
      "The Version is:\n",
      "sys.version_info(major=3, minor=8, micro=8, releaselevel='final', serial=0)\n"
     ]
    }
   ],
   "source": [
    "#Write a Python program to get the Python version you are using\n",
    "import sys\n",
    "print(\"Your python version is:\")\n",
    "print (sys.version)\n",
    "print(\"\\n\\nThe Version is:\")\n",
    "print (sys.version_info)"
   ]
  },
  {
   "cell_type": "code",
   "execution_count": 3,
   "id": "3c3628e4",
   "metadata": {},
   "outputs": [
    {
     "name": "stdout",
     "output_type": "stream",
     "text": [
      "date and time = 22/10/2021 23:00:52\n"
     ]
    }
   ],
   "source": [
    "#Write a Python program to display the current date and time.  \n",
    "from datetime import datetime\n",
    "# datetime object containing current date and time\n",
    "now = datetime.now()\n",
    " # dd/mm/YY H:M:S\n",
    "dt_string = now.strftime(\"%d/%m/%Y %H:%M:%S\")\n",
    "print(\"date and time =\", dt_string)"
   ]
  },
  {
   "cell_type": "code",
   "execution_count": 4,
   "id": "9b40b704",
   "metadata": {},
   "outputs": [
    {
     "name": "stdout",
     "output_type": "stream",
     "text": [
      "Enter a radius:67\n",
      "The area of a circle is 14104.438\n"
     ]
    }
   ],
   "source": [
    "# Write a Python program which accepts the radius of a circle from the user and compute  the area.\n",
    "r=int(input(\"Enter a radius:\"))\n",
    "p=3.142\n",
    "a=p*r**2\n",
    "print(\"The area of a circle is\",a)"
   ]
  },
  {
   "cell_type": "code",
   "execution_count": 5,
   "id": "93398aad",
   "metadata": {},
   "outputs": [
    {
     "name": "stdout",
     "output_type": "stream",
     "text": [
      "Enter your first name:wareesha\n",
      "Enter your last name:nezam\n",
      "ahseeraw mazen\n"
     ]
    }
   ],
   "source": [
    "#Write a Python program which accepts the user's first and last name and print them in  reverse order with a space between them.  \n",
    "g=str(input(\"Enter your first name:\"))\n",
    "p=str(input(\"Enter your last name:\"))\n",
    "a=g[::-1]\n",
    "b=p[::-1]\n",
    "print(a+\" \"+b)"
   ]
  },
  {
   "cell_type": "code",
   "execution_count": 6,
   "id": "f62895f8",
   "metadata": {},
   "outputs": [
    {
     "name": "stdout",
     "output_type": "stream",
     "text": [
      "Enter a number:45\n",
      "Enter a number:78\n",
      "123\n"
     ]
    }
   ],
   "source": [
    "#Write a python program which takes two inputs from user and print them addition   \n",
    "t=int(input(\"Enter a number:\"))\n",
    "u=int(input(\"Enter a number:\"))\n",
    "a = t+u\n",
    "print(a)"
   ]
  },
  {
   "cell_type": "code",
   "execution_count": 7,
   "id": "7014a45e",
   "metadata": {},
   "outputs": [
    {
     "name": "stdout",
     "output_type": "stream",
     "text": [
      "Enter your english marks;89\n",
      "Enter your maths marks;67\n",
      "Enter your islamiat marks;90\n",
      "Enter your urdu marks;56\n",
      "Enter your computer marks;49\n",
      "Your Grade is A\n"
     ]
    }
   ],
   "source": [
    "# Write a program which takes 5 inputs from user for different subject’s marks, total it  and generate mark sheet using grades ?  \n",
    "a=int(input(\"Enter your english marks;\"))\n",
    "b=int(input(\"Enter your maths marks;\"))\n",
    "c=int(input(\"Enter your islamiat marks;\"))\n",
    "d=int(input(\"Enter your urdu marks;\"))\n",
    "e=int(input(\"Enter your computer marks;\"))\n",
    "f = 500 #total marks\n",
    "t=((a+b+c+d+e)/f)*100 #calculate percentage\n",
    "if t > 80 and t <= 100 :\n",
    " print(\"Congragulations Your Grade is A+\")\n",
    "elif t > 70 and t <= 80:\n",
    "    print(\"Your Grade is A\")\n",
    "elif t > 60 and t <= 70:\n",
    "    print(\"Your Grade is B\")\n",
    "elif t > 50 and t <= 60:  \n",
    "    print(\"Your Grade is C\")\n",
    "elif t > 40 and t <= 50:\n",
    "    print(\"Your Grade is D\")\n",
    "elif t > 33 and t <= 40:\n",
    "    print(\"Your Grade is E\")\n",
    "elif t < 33:\n",
    "    print(\"You Are Fail\")\n",
    "if t > 100 or t <= 0:\n",
    "    print(\"Invalid result\")"
   ]
  },
  {
   "cell_type": "code",
   "execution_count": 8,
   "id": "9f140731",
   "metadata": {},
   "outputs": [
    {
     "name": "stdout",
     "output_type": "stream",
     "text": [
      "Enter a number:9\n",
      "Odd Number\n"
     ]
    }
   ],
   "source": [
    "# Write a program which take input from user and identify that the given number is even  or odd?  \n",
    "f=int(input(\"Enter a number:\"))\n",
    "r = f%2\n",
    "if (r == 0):\n",
    "    print(\"Even Number\")\n",
    "else:\n",
    "    print(\"Odd Number\")"
   ]
  },
  {
   "cell_type": "code",
   "execution_count": 9,
   "id": "ca55b24c",
   "metadata": {},
   "outputs": [
    {
     "name": "stdout",
     "output_type": "stream",
     "text": [
      "5\n"
     ]
    }
   ],
   "source": [
    "#Write a program which print the length of the list?  \n",
    "w = [\"apple\",\"banana\",\"mango\",\"orange\",\"grapes\"]\n",
    "print(len(w))"
   ]
  },
  {
   "cell_type": "code",
   "execution_count": 10,
   "id": "6cc8247d",
   "metadata": {},
   "outputs": [
    {
     "name": "stdout",
     "output_type": "stream",
     "text": [
      "232\n"
     ]
    }
   ],
   "source": [
    "#Write a Python program to sum all the numeric items in a list?  \n",
    "a = [1, 1, 2, 3, 5, 8, 13, 21, 34, 55, 89]\n",
    "print(sum(a))"
   ]
  },
  {
   "cell_type": "code",
   "execution_count": 11,
   "id": "f385f08b",
   "metadata": {},
   "outputs": [
    {
     "name": "stdout",
     "output_type": "stream",
     "text": [
      "89\n"
     ]
    }
   ],
   "source": [
    "#Write a Python program to get the largest number from a numeric list.  \n",
    "a = [1, 1, 2, 3, 5, 8, 13, 21, 34, 55, 89]\n",
    "print(max(a))"
   ]
  },
  {
   "cell_type": "code",
   "execution_count": 12,
   "id": "e92dc3d5",
   "metadata": {},
   "outputs": [
    {
     "name": "stdout",
     "output_type": "stream",
     "text": [
      "1\n",
      "1\n",
      "2\n",
      "3\n"
     ]
    }
   ],
   "source": [
    "#Take a list, say for example this one:  \n",
    "  #a = [1, 1, 2, 3, 5, 8, 13, 21, 34, 55, 89]  \n",
    " #Write a program that prints out all the elements of the list that are less than 5. \n",
    "a = [1, 1, 2, 3, 5, 8, 13, 21, 34, 55, 89]\n",
    "for i in a:\n",
    "    if i < 5:\n",
    "        print(i)"
   ]
  },
  {
   "cell_type": "code",
   "execution_count": null,
   "id": "15b5b7e5",
   "metadata": {},
   "outputs": [],
   "source": []
  }
 ],
 "metadata": {
  "kernelspec": {
   "display_name": "Python 3",
   "language": "python",
   "name": "python3"
  },
  "language_info": {
   "codemirror_mode": {
    "name": "ipython",
    "version": 3
   },
   "file_extension": ".py",
   "mimetype": "text/x-python",
   "name": "python",
   "nbconvert_exporter": "python",
   "pygments_lexer": "ipython3",
   "version": "3.8.8"
  }
 },
 "nbformat": 4,
 "nbformat_minor": 5
}
